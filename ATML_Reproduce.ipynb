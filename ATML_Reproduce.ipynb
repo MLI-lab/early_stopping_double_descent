{
  "nbformat": 4,
  "nbformat_minor": 0,
  "metadata": {
    "colab": {
      "name": "ATML Reproduce.ipynb",
      "provenance": [],
      "collapsed_sections": [],
      "include_colab_link": true
    },
    "kernelspec": {
      "name": "python3",
      "display_name": "Python 3"
    },
    "language_info": {
      "name": "python"
    },
    "accelerator": "GPU"
  },
  "cells": [
    {
      "cell_type": "markdown",
      "metadata": {
        "id": "view-in-github",
        "colab_type": "text"
      },
      "source": [
        "<a href=\"https://colab.research.google.com/github/uslumt/early_stopping_double_descent/blob/master/ATML_Reproduce.ipynb\" target=\"_parent\"><img src=\"https://colab.research.google.com/assets/colab-badge.svg\" alt=\"Open In Colab\"/></a>"
      ]
    },
    {
      "cell_type": "code",
      "metadata": {
        "colab": {
          "base_uri": "https://localhost:8080/"
        },
        "id": "R9pDXio3t8yY",
        "outputId": "c665be4b-508c-4045-ae77-a7dd90325df3"
      },
      "source": [
        "!git clone https://github.com/uslumt/early_stopping_double_descent.git"
      ],
      "execution_count": 1,
      "outputs": [
        {
          "output_type": "stream",
          "name": "stdout",
          "text": [
            "Cloning into 'early_stopping_double_descent'...\n",
            "remote: Enumerating objects: 228, done.\u001b[K\n",
            "remote: Counting objects: 100% (228/228), done.\u001b[K\n",
            "remote: Compressing objects: 100% (169/169), done.\u001b[K\n",
            "remote: Total 228 (delta 95), reused 162 (delta 49), pack-reused 0\u001b[K\n",
            "Receiving objects: 100% (228/228), 2.21 MiB | 11.85 MiB/s, done.\n",
            "Resolving deltas: 100% (95/95), done.\n"
          ]
        }
      ]
    },
    {
      "cell_type": "code",
      "metadata": {
        "colab": {
          "base_uri": "https://localhost:8080/"
        },
        "id": "wzGuC32WuOjJ",
        "outputId": "1a055a6f-40e4-4467-db1f-92c9db9a8972"
      },
      "source": [
        "cd early_stopping_double_descent/"
      ],
      "execution_count": 2,
      "outputs": [
        {
          "output_type": "stream",
          "name": "stdout",
          "text": [
            "/content/early_stopping_double_descent\n"
          ]
        }
      ]
    },
    {
      "cell_type": "code",
      "metadata": {
        "colab": {
          "base_uri": "https://localhost:8080/"
        },
        "id": "EWZ6-CWvuOuA",
        "outputId": "617d4908-a047-43d7-bffc-d973aab15394"
      },
      "source": [
        "ls"
      ],
      "execution_count": 3,
      "outputs": [
        {
          "output_type": "stream",
          "name": "stdout",
          "text": [
            "\u001b[0m\u001b[01;34mcode\u001b[0m/    model_select.py  README.md         \u001b[01;34mresults\u001b[0m/  train_two_layer.py\n",
            "\u001b[01;34mmodels\u001b[0m/  \u001b[01;34mnotebooks\u001b[0m/       requirements.txt  train.py\n"
          ]
        }
      ]
    },
    {
      "cell_type": "code",
      "metadata": {
        "colab": {
          "base_uri": "https://localhost:8080/"
        },
        "id": "7ClIFnT6nJCd",
        "outputId": "682595aa-1e07-4b41-838e-a649f2ff8476"
      },
      "source": [
        "from google.colab import drive\n",
        "drive.mount('/content/drive')"
      ],
      "execution_count": 4,
      "outputs": [
        {
          "output_type": "stream",
          "name": "stdout",
          "text": [
            "Mounted at /content/drive\n"
          ]
        }
      ]
    },
    {
      "cell_type": "code",
      "metadata": {
        "colab": {
          "base_uri": "https://localhost:8080/"
        },
        "id": "fptWICSJuOwm",
        "outputId": "77239b34-2e01-40b8-b346-a8c7501ecb8f"
      },
      "source": [
        "!pip install -r requirements.txt"
      ],
      "execution_count": 5,
      "outputs": [
        {
          "output_type": "stream",
          "name": "stdout",
          "text": [
            "Requirement already satisfied: numpy>=1.15.4 in /usr/local/lib/python3.7/dist-packages (from -r requirements.txt (line 1)) (1.19.5)\n",
            "Requirement already satisfied: torch>=1.0.0 in /usr/local/lib/python3.7/dist-packages (from -r requirements.txt (line 2)) (1.10.0+cu111)\n",
            "Requirement already satisfied: torchvision>=0.2.1 in /usr/local/lib/python3.7/dist-packages (from -r requirements.txt (line 3)) (0.11.1+cu111)\n",
            "Requirement already satisfied: typing-extensions in /usr/local/lib/python3.7/dist-packages (from torch>=1.0.0->-r requirements.txt (line 2)) (3.10.0.2)\n",
            "Requirement already satisfied: pillow!=8.3.0,>=5.3.0 in /usr/local/lib/python3.7/dist-packages (from torchvision>=0.2.1->-r requirements.txt (line 3)) (7.1.2)\n"
          ]
        }
      ]
    },
    {
      "cell_type": "code",
      "metadata": {
        "colab": {
          "base_uri": "https://localhost:8080/"
        },
        "id": "HIMg0YP-IBW8",
        "outputId": "c4535e7b-e14c-4843-e86b-6ef4e5a58a1d"
      },
      "source": [
        "!pip install opencv-python"
      ],
      "execution_count": 6,
      "outputs": [
        {
          "output_type": "stream",
          "name": "stdout",
          "text": [
            "Requirement already satisfied: opencv-python in /usr/local/lib/python3.7/dist-packages (4.1.2.30)\n",
            "Requirement already satisfied: numpy>=1.14.5 in /usr/local/lib/python3.7/dist-packages (from opencv-python) (1.19.5)\n"
          ]
        }
      ]
    },
    {
      "cell_type": "code",
      "metadata": {
        "id": "Pyxg0W67uOzP"
      },
      "source": [
        "CONFIG_FILE=\"/content/early_stopping_double_descent/results/mcnn/cifar/ff_small_lr/config.json\""
      ],
      "execution_count": null,
      "outputs": []
    },
    {
      "cell_type": "code",
      "metadata": {
        "id": "d3vzVRxoa8ph",
        "colab": {
          "base_uri": "https://localhost:8080/"
        },
        "outputId": "e6df37bd-82da-4399-ffa4-226d379b2a3f"
      },
      "source": [
        "!mkdir datasets"
      ],
      "execution_count": 20,
      "outputs": [
        {
          "output_type": "stream",
          "name": "stdout",
          "text": [
            "mkdir: cannot create directory ‘datasets’: File exists\n"
          ]
        }
      ]
    },
    {
      "cell_type": "markdown",
      "metadata": {
        "id": "LQc7CoE0Yfno"
      },
      "source": [
        "# The cells below transform the dataset from raw form to .npz form"
      ]
    },
    {
      "cell_type": "code",
      "metadata": {
        "colab": {
          "base_uri": "https://localhost:8080/"
        },
        "id": "fVaTg_qsuO15",
        "outputId": "44068ab9-dc42-456a-d5f6-8fe1a34193d7"
      },
      "source": [
        "import torchvision\n",
        "trainset = torchvision.datasets.CIFAR10(root='./datasets', train=True, download=True)"
      ],
      "execution_count": 21,
      "outputs": [
        {
          "output_type": "stream",
          "name": "stdout",
          "text": [
            "Files already downloaded and verified\n"
          ]
        }
      ]
    },
    {
      "cell_type": "code",
      "metadata": {
        "id": "g97g1nwilS3p"
      },
      "source": [
        ""
      ],
      "execution_count": null,
      "outputs": []
    },
    {
      "cell_type": "code",
      "metadata": {
        "colab": {
          "base_uri": "https://localhost:8080/"
        },
        "id": "2DdtbUI-3vPS",
        "outputId": "9631bc69-10a9-4f13-f955-2bc9b9656a8b"
      },
      "source": [
        "import glob\n",
        "import os\n",
        "import pickle\n",
        "\n",
        "import cv2\n",
        "import numpy as np\n",
        "\n",
        "\n",
        "data_dir = './datasets/cifar-10-batches-py'\n",
        "\n",
        "train_files = glob.glob(os.path.join(data_dir, 'data_batch*'))\n",
        "test_files = glob.glob(os.path.join(data_dir, 'test_batch*'))\n",
        "\n",
        "# all_files = all_files + test_files\n",
        "assert train_files, 'File paths to load are empty. Please ensure downloaded files are in {}'.format(data_dir)\n",
        "assert test_files, 'File paths to load are empty. Please ensure downloaded files are in {}'.format(data_dir)\n",
        "\n",
        "\n",
        "def unpickle(file):\n",
        "    with open(file, 'rb') as fo:\n",
        "        dic = pickle.load(fo, encoding='bytes')\n",
        "    return dic\n",
        "\n",
        "\n",
        "# label\n",
        "# 0:airplane, 1:automobile, 2:bird. 3:cat, 4:deer, 5:dog, 6:frog, 7:horse, 8:ship, 9:truck\n",
        "X_train = []\n",
        "y_train = []\n",
        "\n",
        "X_test = []\n",
        "y_test = []\n",
        "\n",
        "print('Load compressed files - Train')\n",
        "print(train_files)\n",
        "\n",
        "\n",
        "for file in train_files:\n",
        "    print('Processing', file)\n",
        "    ret = unpickle(file)\n",
        "\n",
        "    for i, arr in enumerate(ret[b'data']):\n",
        "        img = np.reshape(arr, (3, 32, 32))\n",
        "        img = img.transpose(1, 2, 0)\n",
        "        X_train.append(img)\n",
        "        y_train.append(ret[b'labels'][i])\n",
        "\n",
        "X_train = np.array(X_train)\n",
        "y_train = np.array(y_train)\n",
        "\n",
        "print('Train files shape')\n",
        "print(X_train.shape)\n",
        "\n",
        "print('Train labeles shape')\n",
        "print(y_train.shape)\n",
        "\n",
        "\n",
        "\n",
        "print('Load compressed files - Test')\n",
        "print(test_files)\n",
        "\n",
        "for file in test_files:\n",
        "    print('Processing', file)\n",
        "    ret = unpickle(file)\n",
        "\n",
        "    for i, arr in enumerate(ret[b'data']):\n",
        "        img = np.reshape(arr, (3, 32, 32))\n",
        "        img = img.transpose(1, 2, 0)\n",
        "        X_test.append(img)\n",
        "        y_test.append(ret[b'labels'][i])\n",
        "\n",
        "X_test = np.array(X_test)\n",
        "y_test = np.array(y_test)\n",
        "\n",
        "print('Test files shape')\n",
        "print(X_test.shape)\n",
        "\n",
        "print('Test labeles shape')\n",
        "print(y_test.shape)\n",
        "\n",
        "\n",
        "np.savez(os.path.join('./datasets', 'cifar.npz'), X_train=X_train, y_train=y_train, X_test=X_test, y_test=y_test)"
      ],
      "execution_count": 23,
      "outputs": [
        {
          "output_type": "stream",
          "name": "stdout",
          "text": [
            "Load compressed files - Train\n",
            "['./datasets/cifar-10-batches-py/data_batch_2', './datasets/cifar-10-batches-py/data_batch_4', './datasets/cifar-10-batches-py/data_batch_5', './datasets/cifar-10-batches-py/data_batch_3', './datasets/cifar-10-batches-py/data_batch_1']\n",
            "Processing ./datasets/cifar-10-batches-py/data_batch_2\n",
            "Processing ./datasets/cifar-10-batches-py/data_batch_4\n",
            "Processing ./datasets/cifar-10-batches-py/data_batch_5\n",
            "Processing ./datasets/cifar-10-batches-py/data_batch_3\n",
            "Processing ./datasets/cifar-10-batches-py/data_batch_1\n",
            "Train files shape\n",
            "(50000, 32, 32, 3)\n",
            "Train labeles shape\n",
            "(50000,)\n",
            "Load compressed files - Test\n",
            "['./datasets/cifar-10-batches-py/test_batch']\n",
            "Processing ./datasets/cifar-10-batches-py/test_batch\n",
            "Test files shape\n",
            "(10000, 32, 32, 3)\n",
            "Test labeles shape\n",
            "(10000,)\n"
          ]
        }
      ]
    },
    {
      "cell_type": "markdown",
      "metadata": {
        "id": "OBHyqExxYeMI"
      },
      "source": [
        ""
      ]
    },
    {
      "cell_type": "code",
      "metadata": {
        "colab": {
          "base_uri": "https://localhost:8080/"
        },
        "id": "YG5ReENHMaig",
        "outputId": "93dd802c-5d06-4de0-bc0e-a105ce45940c"
      },
      "source": [
        "!python3 train.py --config /content/early_stopping_double_descent/results/mcnn/cifar/ff_large_lr/config.json"
      ],
      "execution_count": null,
      "outputs": [
        {
          "output_type": "stream",
          "name": "stdout",
          "text": [
            "train.py:792: UserWarning: You have chosen a specific GPU. This will completely disable data parallelism.\n",
            "  warnings.warn('You have chosen a specific GPU. This will completely '\n",
            "Use GPU: 0 for training\n",
            "=> creating model 'resnet'\n",
            "/usr/local/lib/python3.7/dist-packages/torch/utils/data/dataloader.py:481: UserWarning: This DataLoader will create 4 worker processes in total. Our suggested max number of worker in current system is 2, which is smaller than what this DataLoader is going to create. Please be aware that excessive worker creation might get DataLoader running slow or even freeze, lower the worker number to avoid potential slowness/freeze if necessary.\n",
            "  cpuset_checked))\n",
            "Epoch: [0][0/391]\tTime 2.628 (2.628)\tData 0.327 (0.327)\tLoss 2.4719 (2.4719)\tAcc@1 7.031 (7.031)\tAcc@5 53.125 (53.125)\n",
            "Test: [0/391]\tTime 0.409 (0.409)\tLoss 1.5799 (1.5799)\tAcc@1 36.719 (36.719)\tAcc@5 92.969 (92.969)\n",
            "Test: [0/79]\tTime 0.353 (0.353)\tLoss 1.3684 (1.3684)\tAcc@1 46.094 (46.094)\tAcc@5 93.750 (93.750)\n",
            "Epoch: [1][0/391]\tTime 0.380 (0.380)\tData 0.247 (0.247)\tLoss 1.4674 (1.4674)\tAcc@1 46.094 (46.094)\tAcc@5 92.969 (92.969)\n",
            "Test: [0/391]\tTime 0.458 (0.458)\tLoss 1.3650 (1.3650)\tAcc@1 51.562 (51.562)\tAcc@5 95.312 (95.312)\n"
          ]
        }
      ]
    },
    {
      "cell_type": "code",
      "metadata": {
        "colab": {
          "base_uri": "https://localhost:8080/"
        },
        "id": "GQ3FbI3yNxn9",
        "outputId": "b5cc4295-ec4f-40b2-907f-0f757f03e937"
      },
      "source": [
        "import torch\n",
        "torch.cuda.is_available()"
      ],
      "execution_count": null,
      "outputs": [
        {
          "output_type": "execute_result",
          "data": {
            "text/plain": [
              "True"
            ]
          },
          "metadata": {},
          "execution_count": 5
        }
      ]
    },
    {
      "cell_type": "code",
      "metadata": {
        "colab": {
          "base_uri": "https://localhost:8080/"
        },
        "id": "8Et-j5F7k_jA",
        "outputId": "e3411af2-b98f-4eba-a60a-6c574c6fd97f"
      },
      "source": [
        "ls\n"
      ],
      "execution_count": null,
      "outputs": [
        {
          "output_type": "stream",
          "name": "stdout",
          "text": [
            "\u001b[0m\u001b[01;34msample_data\u001b[0m/\n"
          ]
        }
      ]
    }
  ]
}